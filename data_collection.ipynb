{
 "cells": [
  {
   "cell_type": "code",
   "execution_count": 3,
   "id": "bc3714d9",
   "metadata": {},
   "outputs": [],
   "source": [
    "# import modules\n",
    "\n",
    "import cv2\n",
    "import os\n",
    "import time\n",
    "import uuid"
   ]
  },
  {
   "cell_type": "code",
   "execution_count": 17,
   "id": "6b39272a",
   "metadata": {},
   "outputs": [],
   "source": [
    "# labels\n",
    "\n",
    "gestures = ['thumbsup', 'thumbsdown', 'thankyou', 'little', 'stop']\n",
    "img_per_class = 7"
   ]
  },
  {
   "cell_type": "code",
   "execution_count": 18,
   "id": "5b488ae0",
   "metadata": {},
   "outputs": [],
   "source": [
    "# path\n",
    "\n",
    "path = os.path.join('images', 'collectedimages')"
   ]
  },
  {
   "cell_type": "code",
   "execution_count": 20,
   "id": "6f139380",
   "metadata": {},
   "outputs": [],
   "source": [
    "if not os.path.exists(path):\n",
    "    os.makedirs(path)\n",
    "\n",
    "for gesture in gestures:\n",
    "    gesture_path = os.path.join(path, gesture)\n",
    "    if not os.path.exists(gesture_path):\n",
    "        os.mkdir(gesture_path)"
   ]
  },
  {
   "cell_type": "code",
   "execution_count": 27,
   "id": "6a49a04f",
   "metadata": {},
   "outputs": [
    {
     "name": "stdout",
     "output_type": "stream",
     "text": [
      "Capturing image for thumbsup\n",
      "Capturing image number 0\n",
      "Capturing image number 1\n",
      "Capturing image number 2\n",
      "Capturing image number 3\n",
      "Capturing image number 4\n",
      "Capturing image number 5\n",
      "Capturing image number 6\n",
      "Capturing image for thumbsdown\n",
      "Capturing image number 0\n",
      "Capturing image number 1\n",
      "Capturing image number 2\n",
      "Capturing image number 3\n",
      "Capturing image number 4\n",
      "Capturing image number 5\n",
      "Capturing image number 6\n",
      "Capturing image for thankyou\n",
      "Capturing image number 0\n",
      "Capturing image number 1\n",
      "Capturing image number 2\n",
      "Capturing image number 3\n",
      "Capturing image number 4\n",
      "Capturing image number 5\n",
      "Capturing image number 6\n",
      "Capturing image for little\n",
      "Capturing image number 0\n",
      "Capturing image number 1\n",
      "Capturing image number 2\n",
      "Capturing image number 3\n",
      "Capturing image number 4\n",
      "Capturing image number 5\n",
      "Capturing image number 6\n",
      "Capturing image for stop\n",
      "Capturing image number 0\n",
      "Capturing image number 1\n",
      "Capturing image number 2\n",
      "Capturing image number 3\n",
      "Capturing image number 4\n",
      "Capturing image number 5\n",
      "Capturing image number 6\n"
     ]
    }
   ],
   "source": [
    "for gesture in gestures:\n",
    "    \n",
    "    click = cv2.VideoCapture(0)\n",
    "    print('Capturing image for {}'.format(gesture))\n",
    "    time.sleep(5)\n",
    "    \n",
    "    for i in range(img_per_class):\n",
    "        print('Capturing image number {}'.format(i))\n",
    "        ret, frame = click.read()\n",
    "        iname = os.path.join(path, gesture, gesture+'.'+'{}.jpg').format(str(uuid.uuid1()))\n",
    "        cv2.imwrite(iname, frame)\n",
    "        cv2.imshow('frame', frame)\n",
    "        time.sleep(2)\n",
    "            \n",
    "click.release()\n",
    "cv2.destroyAllWindows()"
   ]
  },
  {
   "cell_type": "code",
   "execution_count": 29,
   "id": "f399c145",
   "metadata": {},
   "outputs": [],
   "source": [
    "label_path = os.path.join('images', 'labeledimages')"
   ]
  },
  {
   "cell_type": "code",
   "execution_count": 30,
   "id": "62d3df64",
   "metadata": {},
   "outputs": [],
   "source": [
    "if not os.path.exists(label_path):\n",
    "    os.makedirs(label_path)"
   ]
  },
  {
   "cell_type": "code",
   "execution_count": 4,
   "id": "e5a41724",
   "metadata": {},
   "outputs": [],
   "source": [
    "# clone this repo into it\n",
    "# git clone https://github.com/tzutalin/labelImg\n",
    "l = os.path.join('images', 'labeledimages', 'labelImg')\n",
    "\n",
    "!cd {l} && pyrcc5 -o libs/resources.py resources.qrc"
   ]
  },
  {
   "cell_type": "code",
   "execution_count": 5,
   "id": "2cafd224",
   "metadata": {},
   "outputs": [
    {
     "name": "stdout",
     "output_type": "stream",
     "text": [
      "Image:C:\\Users\\Bimalsagar H K\\Desktop\\MyAI\\Computer Vision\\Object Detection\\Untitled Folder\\images\\collectedimages\\stop\\stop.8ad09986-1cab-11ee-a588-cba202640d09.jpg -> Annotation:C:/Users/Bimalsagar H K/Desktop/MyAI/Computer Vision/Object Detection/Untitled Folder/images/collectedimages/stop\\stop.8ad09986-1cab-11ee-a588-cba202640d09.xml\n",
      "Image:C:\\Users\\Bimalsagar H K\\Desktop\\MyAI\\Computer Vision\\Object Detection\\Untitled Folder\\images\\collectedimages\\stop\\stop.8c03b4c0-1cab-11ee-972c-cba202640d09.jpg -> Annotation:C:/Users/Bimalsagar H K/Desktop/MyAI/Computer Vision/Object Detection/Untitled Folder/images/collectedimages/stop\\stop.8c03b4c0-1cab-11ee-972c-cba202640d09.xml\n",
      "Image:C:\\Users\\Bimalsagar H K\\Desktop\\MyAI\\Computer Vision\\Object Detection\\Untitled Folder\\images\\collectedimages\\stop\\stop.8d368789-1cab-11ee-9561-cba202640d09.jpg -> Annotation:C:/Users/Bimalsagar H K/Desktop/MyAI/Computer Vision/Object Detection/Untitled Folder/images/collectedimages/stop\\stop.8d368789-1cab-11ee-9561-cba202640d09.xml\n",
      "Image:C:\\Users\\Bimalsagar H K\\Desktop\\MyAI\\Computer Vision\\Object Detection\\Untitled Folder\\images\\collectedimages\\stop\\stop.8e69b1ae-1cab-11ee-9a34-cba202640d09.jpg -> Annotation:C:/Users/Bimalsagar H K/Desktop/MyAI/Computer Vision/Object Detection/Untitled Folder/images/collectedimages/stop\\stop.8e69b1ae-1cab-11ee-9a34-cba202640d09.xml\n",
      "Image:C:\\Users\\Bimalsagar H K\\Desktop\\MyAI\\Computer Vision\\Object Detection\\Untitled Folder\\images\\collectedimages\\stop\\stop.8f9cc7b6-1cab-11ee-aec4-cba202640d09.jpg -> Annotation:C:/Users/Bimalsagar H K/Desktop/MyAI/Computer Vision/Object Detection/Untitled Folder/images/collectedimages/stop\\stop.8f9cc7b6-1cab-11ee-aec4-cba202640d09.xml\n",
      "Image:C:\\Users\\Bimalsagar H K\\Desktop\\MyAI\\Computer Vision\\Object Detection\\Untitled Folder\\images\\collectedimages\\stop\\stop.90cfe71b-1cab-11ee-8245-cba202640d09.jpg -> Annotation:C:/Users/Bimalsagar H K/Desktop/MyAI/Computer Vision/Object Detection/Untitled Folder/images/collectedimages/stop\\stop.90cfe71b-1cab-11ee-8245-cba202640d09.xml\n",
      "Image:C:\\Users\\Bimalsagar H K\\Desktop\\MyAI\\Computer Vision\\Object Detection\\Untitled Folder\\images\\collectedimages\\stop\\stop.920291df-1cab-11ee-b1d7-cba202640d09.jpg -> Annotation:C:/Users/Bimalsagar H K/Desktop/MyAI/Computer Vision/Object Detection/Untitled Folder/images/collectedimages/stop\\stop.920291df-1cab-11ee-b1d7-cba202640d09.xml\n",
      "Image:C:\\Users\\Bimalsagar H K\\Desktop\\MyAI\\Computer Vision\\Object Detection\\Untitled Folder\\images\\collectedimages\\thankyou\\thankyou.6e4c8003-1cab-11ee-8645-cba202640d09.jpg -> Annotation:C:/Users/Bimalsagar H K/Desktop/MyAI/Computer Vision/Object Detection/Untitled Folder/images/collectedimages/thankyou\\thankyou.6e4c8003-1cab-11ee-8645-cba202640d09.xml\n",
      "Image:C:\\Users\\Bimalsagar H K\\Desktop\\MyAI\\Computer Vision\\Object Detection\\Untitled Folder\\images\\collectedimages\\thankyou\\thankyou.6f7f6d8d-1cab-11ee-951e-cba202640d09.jpg -> Annotation:C:/Users/Bimalsagar H K/Desktop/MyAI/Computer Vision/Object Detection/Untitled Folder/images/collectedimages/thankyou\\thankyou.6f7f6d8d-1cab-11ee-951e-cba202640d09.xml\n",
      "Image:C:\\Users\\Bimalsagar H K\\Desktop\\MyAI\\Computer Vision\\Object Detection\\Untitled Folder\\images\\collectedimages\\thankyou\\thankyou.70b237be-1cab-11ee-987b-cba202640d09.jpg -> Annotation:C:/Users/Bimalsagar H K/Desktop/MyAI/Computer Vision/Object Detection/Untitled Folder/images/collectedimages/thankyou\\thankyou.70b237be-1cab-11ee-987b-cba202640d09.xml\n",
      "Image:C:\\Users\\Bimalsagar H K\\Desktop\\MyAI\\Computer Vision\\Object Detection\\Untitled Folder\\images\\collectedimages\\thankyou\\thankyou.71e5704b-1cab-11ee-93b6-cba202640d09.jpg -> Annotation:C:/Users/Bimalsagar H K/Desktop/MyAI/Computer Vision/Object Detection/Untitled Folder/images/collectedimages/thankyou\\thankyou.71e5704b-1cab-11ee-93b6-cba202640d09.xml\n",
      "Image:C:\\Users\\Bimalsagar H K\\Desktop\\MyAI\\Computer Vision\\Object Detection\\Untitled Folder\\images\\collectedimages\\thankyou\\thankyou.744b5085-1cab-11ee-a363-cba202640d09.jpg -> Annotation:C:/Users/Bimalsagar H K/Desktop/MyAI/Computer Vision/Object Detection/Untitled Folder/images/collectedimages/thankyou\\thankyou.744b5085-1cab-11ee-a363-cba202640d09.xml\n",
      "Cancel creation.\n",
      "Image:C:\\Users\\Bimalsagar H K\\Desktop\\MyAI\\Computer Vision\\Object Detection\\Untitled Folder\\images\\collectedimages\\thankyou\\thankyou.757e235a-1cab-11ee-a899-cba202640d09.jpg -> Annotation:C:/Users/Bimalsagar H K/Desktop/MyAI/Computer Vision/Object Detection/Untitled Folder/images/collectedimages/thankyou\\thankyou.757e235a-1cab-11ee-a899-cba202640d09.xml\n",
      "Image:C:\\Users\\Bimalsagar H K\\Desktop\\MyAI\\Computer Vision\\Object Detection\\Untitled Folder\\images\\collectedimages\\thankyou\\thankyou.7318717a-1cab-11ee-82a3-cba202640d09.jpg -> Annotation:C:/Users/Bimalsagar H K/Desktop/MyAI/Computer Vision/Object Detection/Untitled Folder/images/collectedimages/thankyou\\thankyou.7318717a-1cab-11ee-82a3-cba202640d09.xml\n",
      "Image:C:\\Users\\Bimalsagar H K\\Desktop\\MyAI\\Computer Vision\\Object Detection\\Untitled Folder\\images\\collectedimages\\thumbsdown\\thumbsdown.63afc17c-1cab-11ee-9bf5-cba202640d09.jpg -> Annotation:C:/Users/Bimalsagar H K/Desktop/MyAI/Computer Vision/Object Detection/Untitled Folder/images/collectedimages/thumbsdown\\thumbsdown.63afc17c-1cab-11ee-9bf5-cba202640d09.xml\n",
      "Image:C:\\Users\\Bimalsagar H K\\Desktop\\MyAI\\Computer Vision\\Object Detection\\Untitled Folder\\images\\collectedimages\\thumbsdown\\thumbsdown.64e2aac8-1cab-11ee-a721-cba202640d09.jpg -> Annotation:C:/Users/Bimalsagar H K/Desktop/MyAI/Computer Vision/Object Detection/Untitled Folder/images/collectedimages/thumbsdown\\thumbsdown.64e2aac8-1cab-11ee-a721-cba202640d09.xml\n",
      "Image:C:\\Users\\Bimalsagar H K\\Desktop\\MyAI\\Computer Vision\\Object Detection\\Untitled Folder\\images\\collectedimages\\thumbsdown\\thumbsdown.627ce0e5-1cab-11ee-a633-cba202640d09.jpg -> Annotation:C:/Users/Bimalsagar H K/Desktop/MyAI/Computer Vision/Object Detection/Untitled Folder/images/collectedimages/thumbsdown\\thumbsdown.627ce0e5-1cab-11ee-a633-cba202640d09.xml\n",
      "Image:C:\\Users\\Bimalsagar H K\\Desktop\\MyAI\\Computer Vision\\Object Detection\\Untitled Folder\\images\\collectedimages\\thumbsdown\\thumbsdown.6016ae9e-1cab-11ee-aadb-cba202640d09.jpg -> Annotation:C:/Users/Bimalsagar H K/Desktop/MyAI/Computer Vision/Object Detection/Untitled Folder/images/collectedimages/thumbsdown\\thumbsdown.6016ae9e-1cab-11ee-aadb-cba202640d09.xml\n",
      "Image:C:\\Users\\Bimalsagar H K\\Desktop\\MyAI\\Computer Vision\\Object Detection\\Untitled Folder\\images\\collectedimages\\thumbsdown\\thumbsdown.6149ec90-1cab-11ee-bcd8-cba202640d09.jpg -> Annotation:C:/Users/Bimalsagar H K/Desktop/MyAI/Computer Vision/Object Detection/Untitled Folder/images/collectedimages/thumbsdown\\thumbsdown.6149ec90-1cab-11ee-bcd8-cba202640d09.xml\n",
      "Image:C:\\Users\\Bimalsagar H K\\Desktop\\MyAI\\Computer Vision\\Object Detection\\Untitled Folder\\images\\collectedimages\\thumbsdown\\thumbsdown.67486b63-1cab-11ee-93da-cba202640d09.jpg -> Annotation:C:/Users/Bimalsagar H K/Desktop/MyAI/Computer Vision/Object Detection/Untitled Folder/images/collectedimages/thumbsdown\\thumbsdown.67486b63-1cab-11ee-93da-cba202640d09.xml\n",
      "Image:C:\\Users\\Bimalsagar H K\\Desktop\\MyAI\\Computer Vision\\Object Detection\\Untitled Folder\\images\\collectedimages\\thumbsdown\\thumbsdown.661584e7-1cab-11ee-a2bf-cba202640d09.jpg -> Annotation:C:/Users/Bimalsagar H K/Desktop/MyAI/Computer Vision/Object Detection/Untitled Folder/images/collectedimages/thumbsdown\\thumbsdown.661584e7-1cab-11ee-a2bf-cba202640d09.xml\n",
      "Image:C:\\Users\\Bimalsagar H K\\Desktop\\MyAI\\Computer Vision\\Object Detection\\Untitled Folder\\images\\collectedimages\\thumbsup\\thumbsup.51d7c264-1cab-11ee-97c8-cba202640d09.jpg -> Annotation:C:/Users/Bimalsagar H K/Desktop/MyAI/Computer Vision/Object Detection/Untitled Folder/images/collectedimages/thumbsup\\thumbsup.51d7c264-1cab-11ee-97c8-cba202640d09.xml\n",
      "Image:C:\\Users\\Bimalsagar H K\\Desktop\\MyAI\\Computer Vision\\Object Detection\\Untitled Folder\\images\\collectedimages\\thumbsup\\thumbsup.56a9d870-1cab-11ee-9673-cba202640d09.jpg -> Annotation:C:/Users/Bimalsagar H K/Desktop/MyAI/Computer Vision/Object Detection/Untitled Folder/images/collectedimages/thumbsup\\thumbsup.56a9d870-1cab-11ee-9673-cba202640d09.xml\n",
      "Image:C:\\Users\\Bimalsagar H K\\Desktop\\MyAI\\Computer Vision\\Object Detection\\Untitled Folder\\images\\collectedimages\\thumbsup\\thumbsup.57dcbf64-1cab-11ee-ad08-cba202640d09.jpg -> Annotation:C:/Users/Bimalsagar H K/Desktop/MyAI/Computer Vision/Object Detection/Untitled Folder/images/collectedimages/thumbsup\\thumbsup.57dcbf64-1cab-11ee-ad08-cba202640d09.xml\n",
      "Image:C:\\Users\\Bimalsagar H K\\Desktop\\MyAI\\Computer Vision\\Object Detection\\Untitled Folder\\images\\collectedimages\\thumbsup\\thumbsup.590fb6f5-1cab-11ee-ac90-cba202640d09.jpg -> Annotation:C:/Users/Bimalsagar H K/Desktop/MyAI/Computer Vision/Object Detection/Untitled Folder/images/collectedimages/thumbsup\\thumbsup.590fb6f5-1cab-11ee-ac90-cba202640d09.xml\n",
      "Image:C:\\Users\\Bimalsagar H K\\Desktop\\MyAI\\Computer Vision\\Object Detection\\Untitled Folder\\images\\collectedimages\\thumbsup\\thumbsup.5443f70d-1cab-11ee-8bd8-cba202640d09.jpg -> Annotation:C:/Users/Bimalsagar H K/Desktop/MyAI/Computer Vision/Object Detection/Untitled Folder/images/collectedimages/thumbsup\\thumbsup.5443f70d-1cab-11ee-8bd8-cba202640d09.xml\n",
      "Image:C:\\Users\\Bimalsagar H K\\Desktop\\MyAI\\Computer Vision\\Object Detection\\Untitled Folder\\images\\collectedimages\\thumbsup\\thumbsup.5576d2a3-1cab-11ee-86f9-cba202640d09.jpg -> Annotation:C:/Users/Bimalsagar H K/Desktop/MyAI/Computer Vision/Object Detection/Untitled Folder/images/collectedimages/thumbsup\\thumbsup.5576d2a3-1cab-11ee-86f9-cba202640d09.xml\n",
      "Image:C:\\Users\\Bimalsagar H K\\Desktop\\MyAI\\Computer Vision\\Object Detection\\Untitled Folder\\images\\collectedimages\\thumbsup\\thumbsup.53106071-1cab-11ee-b353-cba202640d09.jpg -> Annotation:C:/Users/Bimalsagar H K/Desktop/MyAI/Computer Vision/Object Detection/Untitled Folder/images/collectedimages/thumbsup\\thumbsup.53106071-1cab-11ee-b353-cba202640d09.xml\n"
     ]
    }
   ],
   "source": [
    "!cd {l} && python labelImg.py"
   ]
  }
 ],
 "metadata": {
  "kernelspec": {
   "display_name": "Python 3 (ipykernel)",
   "language": "python",
   "name": "python3"
  },
  "language_info": {
   "codemirror_mode": {
    "name": "ipython",
    "version": 3
   },
   "file_extension": ".py",
   "mimetype": "text/x-python",
   "name": "python",
   "nbconvert_exporter": "python",
   "pygments_lexer": "ipython3",
   "version": "3.11.4"
  }
 },
 "nbformat": 4,
 "nbformat_minor": 5
}
